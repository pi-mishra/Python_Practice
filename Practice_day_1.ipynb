{
 "cells": [
  {
   "cell_type": "markdown",
   "metadata": {},
   "source": [
    "\n",
    "* Python program to add two numbers\n",
    "* Maximum of two numbers in Python\n",
    "* Python Program for factorial of a number\n",
    "* Python Program for simple interest\n",
    "* Python Program for compound interest\n",
    "* Python Program to check Armstrong Number\n",
    "* Python Program for Program to find area of a circle\n",
    "* Python program to print all Prime numbers in an Interval\n",
    "* Python program to check whether a number is Prime or not\n",
    "* Python Program for n-th Fibonacci number\n",
    "* Python Program for How to check if a given number is Fibonacci number?\n",
    "* Python Program for n\\’th multiple of a number in Fibonacci Series\n",
    "* Program to print ASCII Value of a character\n",
    "* Python Program for Sum of squares of first n natural numbers\n",
    "* Python Program for cube sum of first n natural numbers"
   ]
  },
  {
   "cell_type": "code",
   "execution_count": 1,
   "metadata": {},
   "outputs": [
    {
     "data": {
      "text/plain": [
       "916"
      ]
     },
     "execution_count": 1,
     "metadata": {},
     "output_type": "execute_result"
    }
   ],
   "source": [
    "def add2numbers(a,b):\n",
    "    \"\"\" add 2 numbers \"\"\"\n",
    "    sum = a + b\n",
    "    return sum\n",
    "\n",
    "add2numbers(564,352)"
   ]
  },
  {
   "cell_type": "code",
   "execution_count": 2,
   "metadata": {},
   "outputs": [
    {
     "name": "stdout",
     "output_type": "stream",
     "text": [
      "b is greater\n"
     ]
    }
   ],
   "source": [
    "def max2(a,b):\n",
    "    if a > b:\n",
    "        print(\"a is greater\")\n",
    "    else:\n",
    "        print(\"b is greater\")\n",
    "\n",
    "max2(45,65)"
   ]
  },
  {
   "cell_type": "code",
   "execution_count": null,
   "metadata": {},
   "outputs": [],
   "source": []
  }
 ],
 "metadata": {
  "kernelspec": {
   "display_name": "base",
   "language": "python",
   "name": "python3"
  },
  "language_info": {
   "codemirror_mode": {
    "name": "ipython",
    "version": 3
   },
   "file_extension": ".py",
   "mimetype": "text/x-python",
   "name": "python",
   "nbconvert_exporter": "python",
   "pygments_lexer": "ipython3",
   "version": "3.9.12"
  }
 },
 "nbformat": 4,
 "nbformat_minor": 2
}
