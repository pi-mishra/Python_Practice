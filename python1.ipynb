{
 "cells": [
  {
   "cell_type": "code",
   "execution_count": 3,
   "metadata": {},
   "outputs": [
    {
     "data": {
      "text/plain": [
       "110"
      ]
     },
     "execution_count": 3,
     "metadata": {},
     "output_type": "execute_result"
    }
   ],
   "source": [
    "# Python program to add two numbers\n",
    "\n",
    "def add2num(a,b):\n",
    "    sum = a+b\n",
    "    return sum\n",
    "\n",
    "add2num(45,65)"
   ]
  },
  {
   "cell_type": "code",
   "execution_count": 4,
   "metadata": {},
   "outputs": [
    {
     "name": "stdout",
     "output_type": "stream",
     "text": [
      "54 is greater\n"
     ]
    }
   ],
   "source": [
    "# Maximum of two numbers in Python\n",
    "\n",
    "def max2(num1,num2):\n",
    "    if num1 > num2:\n",
    "        print(f\"{num1} is greater\")\n",
    "    else:\n",
    "        print(f\"{num2} is greater\")\n",
    "\n",
    "max2(12,54)"
   ]
  }
 ],
 "metadata": {
  "kernelspec": {
   "display_name": "base",
   "language": "python",
   "name": "python3"
  },
  "language_info": {
   "codemirror_mode": {
    "name": "ipython",
    "version": 3
   },
   "file_extension": ".py",
   "mimetype": "text/x-python",
   "name": "python",
   "nbconvert_exporter": "python",
   "pygments_lexer": "ipython3",
   "version": "3.9.12"
  }
 },
 "nbformat": 4,
 "nbformat_minor": 2
}
